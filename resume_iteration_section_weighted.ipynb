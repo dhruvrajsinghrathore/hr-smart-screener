{
 "cells": [
  {
   "cell_type": "code",
   "execution_count": 1,
   "metadata": {},
   "outputs": [],
   "source": [
    "import os\n",
    "import PyPDF2\n",
    "import pandas as pd\n",
    "from sentence_transformers import SentenceTransformer, util"
   ]
  },
  {
   "cell_type": "code",
   "execution_count": 2,
   "metadata": {},
   "outputs": [],
   "source": [
    "model = SentenceTransformer('all-MiniLM-L6-v2')"
   ]
  },
  {
   "cell_type": "code",
   "execution_count": 3,
   "metadata": {},
   "outputs": [],
   "source": [
    "def extract_text_from_pdf(file_path):\n",
    "    with open(file_path, 'rb') as f:\n",
    "        reader = PyPDF2.PdfReader(f)\n",
    "        text = \" \".join(page.extract_text() or \"\" for page in reader.pages)\n",
    "    return text"
   ]
  },
  {
   "cell_type": "code",
   "execution_count": 4,
   "metadata": {},
   "outputs": [],
   "source": [
    "def extract_sections(text):\n",
    "    sections = {\n",
    "        \"skills\": \"\",\n",
    "        \"experience\": \"\",\n",
    "        \"projects\": \"\",\n",
    "        \"other\": \"\"\n",
    "    }\n",
    "    current = \"other\"\n",
    "    for line in text.splitlines():\n",
    "        line = line.strip()\n",
    "        if not line:\n",
    "            continue\n",
    "        l = line.lower()\n",
    "        if \"skill\" in l:\n",
    "            current = \"skills\"\n",
    "        elif \"experience\" in l:\n",
    "            current = \"experience\"\n",
    "        elif \"project\" in l:\n",
    "            current = \"projects\"\n",
    "        sections[current] += line + \" \"\n",
    "    return sections\n"
   ]
  },
  {
   "cell_type": "code",
   "execution_count": 14,
   "metadata": {},
   "outputs": [],
   "source": [
    "def weighted_score(resume_sections, jd_text):\n",
    "    jd_emb = model.encode(jd_text, convert_to_tensor=True)\n",
    "    weights = {\n",
    "        \"skills\": 0.1,\n",
    "        \"experience\": 0.6,\n",
    "        \"projects\": 0.3\n",
    "    }\n",
    "\n",
    "    score = 0.0\n",
    "    for sec, text in resume_sections.items():\n",
    "        if text.strip() == \"\":\n",
    "            continue\n",
    "        emb = model.encode(text, convert_to_tensor=True)\n",
    "        sim = util.pytorch_cos_sim(emb, jd_emb).item()\n",
    "        score += weights.get(sec, 0.0) * sim\n",
    "    return round(score * 100, 2)"
   ]
  },
  {
   "cell_type": "code",
   "execution_count": 15,
   "metadata": {},
   "outputs": [],
   "source": [
    "resume_dir = \"resumes/\"\n",
    "# jd_path = \"JDs/AI_intern_Armada.txt\"\n",
    "jd_path = \"JDs/Data_engineering_intern_LiveRamp.txt\"\n",
    "\n",
    "with open(jd_path, 'r', encoding='utf-8') as f:\n",
    "    jd_text = f.read()\n",
    "\n",
    "results = []\n",
    "\n"
   ]
  },
  {
   "cell_type": "code",
   "execution_count": 16,
   "metadata": {},
   "outputs": [],
   "source": [
    "for file in os.listdir(resume_dir):\n",
    "    if not file.endswith(\".pdf\"):\n",
    "        continue\n",
    "    fpath = os.path.join(resume_dir, file)\n",
    "    text = extract_text_from_pdf(fpath)\n",
    "    sections = extract_sections(text)\n",
    "    score = weighted_score(sections, jd_text)\n",
    "    results.append({\"Resume\": file, \"Weighted Score\": score})\n",
    "\n",
    "results_df = pd.DataFrame(results).sort_values(\"Weighted Score\", ascending=False)\n",
    "results_df.reset_index(drop=True, inplace=True)"
   ]
  },
  {
   "cell_type": "code",
   "execution_count": 17,
   "metadata": {},
   "outputs": [
    {
     "data": {
      "text/html": [
       "<div>\n",
       "<style scoped>\n",
       "    .dataframe tbody tr th:only-of-type {\n",
       "        vertical-align: middle;\n",
       "    }\n",
       "\n",
       "    .dataframe tbody tr th {\n",
       "        vertical-align: top;\n",
       "    }\n",
       "\n",
       "    .dataframe thead th {\n",
       "        text-align: right;\n",
       "    }\n",
       "</style>\n",
       "<table border=\"1\" class=\"dataframe\">\n",
       "  <thead>\n",
       "    <tr style=\"text-align: right;\">\n",
       "      <th></th>\n",
       "      <th>Resume</th>\n",
       "      <th>Weighted Score</th>\n",
       "    </tr>\n",
       "  </thead>\n",
       "  <tbody>\n",
       "    <tr>\n",
       "      <th>0</th>\n",
       "      <td>Dhruvraj_resume_May18.pdf</td>\n",
       "      <td>42.59</td>\n",
       "    </tr>\n",
       "    <tr>\n",
       "      <th>1</th>\n",
       "      <td>Dhruvraj_resume_MSDS.pdf</td>\n",
       "      <td>42.23</td>\n",
       "    </tr>\n",
       "    <tr>\n",
       "      <th>2</th>\n",
       "      <td>Dhruvraj_resume_USHunger.pdf</td>\n",
       "      <td>38.99</td>\n",
       "    </tr>\n",
       "    <tr>\n",
       "      <th>3</th>\n",
       "      <td>Dhruvraj_resume_Mar11.pdf</td>\n",
       "      <td>38.17</td>\n",
       "    </tr>\n",
       "    <tr>\n",
       "      <th>4</th>\n",
       "      <td>Dhruvraj_Resume_intern_rocket.pdf</td>\n",
       "      <td>38.17</td>\n",
       "    </tr>\n",
       "    <tr>\n",
       "      <th>5</th>\n",
       "      <td>Dhruvraj_resume_image_analytics.pdf</td>\n",
       "      <td>8.08</td>\n",
       "    </tr>\n",
       "  </tbody>\n",
       "</table>\n",
       "</div>"
      ],
      "text/plain": [
       "                                Resume  Weighted Score\n",
       "0            Dhruvraj_resume_May18.pdf           42.59\n",
       "1             Dhruvraj_resume_MSDS.pdf           42.23\n",
       "2         Dhruvraj_resume_USHunger.pdf           38.99\n",
       "3            Dhruvraj_resume_Mar11.pdf           38.17\n",
       "4    Dhruvraj_Resume_intern_rocket.pdf           38.17\n",
       "5  Dhruvraj_resume_image_analytics.pdf            8.08"
      ]
     },
     "execution_count": 17,
     "metadata": {},
     "output_type": "execute_result"
    }
   ],
   "source": [
    "## latest\n",
    "results_df"
   ]
  },
  {
   "cell_type": "code",
   "execution_count": null,
   "metadata": {},
   "outputs": [],
   "source": []
  }
 ],
 "metadata": {
  "kernelspec": {
   "display_name": "base",
   "language": "python",
   "name": "python3"
  },
  "language_info": {
   "codemirror_mode": {
    "name": "ipython",
    "version": 3
   },
   "file_extension": ".py",
   "mimetype": "text/x-python",
   "name": "python",
   "nbconvert_exporter": "python",
   "pygments_lexer": "ipython3",
   "version": "3.12.2"
  }
 },
 "nbformat": 4,
 "nbformat_minor": 2
}
