{
 "cells": [
  {
   "cell_type": "code",
   "execution_count": 1,
   "metadata": {},
   "outputs": [],
   "source": [
    "import os\n",
    "import PyPDF2\n",
    "import pandas as pd\n",
    "from sentence_transformers import SentenceTransformer, util"
   ]
  },
  {
   "cell_type": "code",
   "execution_count": 2,
   "metadata": {},
   "outputs": [],
   "source": [
    "model = SentenceTransformer('all-MiniLM-L6-v2')"
   ]
  },
  {
   "cell_type": "code",
   "execution_count": 3,
   "metadata": {},
   "outputs": [],
   "source": [
    "def extract_text_from_pdf(file_path):\n",
    "    with open(file_path, 'rb') as f:\n",
    "        reader = PyPDF2.PdfReader(f)\n",
    "        text = \" \".join(page.extract_text() or \"\" for page in reader.pages)\n",
    "    return text"
   ]
  },
  {
   "cell_type": "code",
   "execution_count": 4,
   "metadata": {},
   "outputs": [],
   "source": [
    "resume_dir = \"resumes/\"\n",
    "# jd_path = \"JDs/AI_intern_Armada.txt\"\n",
    "jd_path = \"JDs/Data_engineering_intern_LiveRamp.txt\"\n",
    "with open(jd_path, 'r', encoding='utf-8') as f:\n",
    "    job_description = f.read()\n",
    "\n",
    "jd_embedding = model.encode(job_description, convert_to_tensor=True)\n",
    "\n"
   ]
  },
  {
   "cell_type": "code",
   "execution_count": 5,
   "metadata": {},
   "outputs": [],
   "source": [
    "results = []\n",
    "\n",
    "for file_name in os.listdir(resume_dir):\n",
    "    if file_name.endswith(\".pdf\"):\n",
    "        file_path = os.path.join(resume_dir, file_name)\n",
    "        resume_text = extract_text_from_pdf(file_path)\n",
    "        resume_embedding = model.encode(resume_text, convert_to_tensor=True)\n",
    "        similarity = util.pytorch_cos_sim(resume_embedding, jd_embedding).item()\n",
    "        score = round(similarity * 100, 2)\n",
    "        \n",
    "        results.append({\n",
    "            \"Resume\": file_name,\n",
    "            \"Similarity Score\": score\n",
    "        })"
   ]
  },
  {
   "cell_type": "code",
   "execution_count": 6,
   "metadata": {},
   "outputs": [],
   "source": [
    "results_df = pd.DataFrame(results)\n",
    "results_df = results_df.sort_values(by=\"Similarity Score\", ascending=False).reset_index(drop=True)"
   ]
  },
  {
   "cell_type": "code",
   "execution_count": 7,
   "metadata": {},
   "outputs": [
    {
     "data": {
      "text/html": [
       "<div>\n",
       "<style scoped>\n",
       "    .dataframe tbody tr th:only-of-type {\n",
       "        vertical-align: middle;\n",
       "    }\n",
       "\n",
       "    .dataframe tbody tr th {\n",
       "        vertical-align: top;\n",
       "    }\n",
       "\n",
       "    .dataframe thead th {\n",
       "        text-align: right;\n",
       "    }\n",
       "</style>\n",
       "<table border=\"1\" class=\"dataframe\">\n",
       "  <thead>\n",
       "    <tr style=\"text-align: right;\">\n",
       "      <th></th>\n",
       "      <th>Resume</th>\n",
       "      <th>Similarity Score</th>\n",
       "    </tr>\n",
       "  </thead>\n",
       "  <tbody>\n",
       "    <tr>\n",
       "      <th>0</th>\n",
       "      <td>Dhruvraj_resume_USHunger.pdf</td>\n",
       "      <td>53.87</td>\n",
       "    </tr>\n",
       "    <tr>\n",
       "      <th>1</th>\n",
       "      <td>Dhruvraj_Resume_intern_rocket.pdf</td>\n",
       "      <td>53.45</td>\n",
       "    </tr>\n",
       "    <tr>\n",
       "      <th>2</th>\n",
       "      <td>Dhruvraj_resume_May18.pdf</td>\n",
       "      <td>44.75</td>\n",
       "    </tr>\n",
       "    <tr>\n",
       "      <th>3</th>\n",
       "      <td>Dhruvraj_resume_Mar11.pdf</td>\n",
       "      <td>40.43</td>\n",
       "    </tr>\n",
       "    <tr>\n",
       "      <th>4</th>\n",
       "      <td>Dhruvraj_resume_MSDS.pdf</td>\n",
       "      <td>35.98</td>\n",
       "    </tr>\n",
       "    <tr>\n",
       "      <th>5</th>\n",
       "      <td>Dhruvraj_resume_image_analytics.pdf</td>\n",
       "      <td>25.18</td>\n",
       "    </tr>\n",
       "  </tbody>\n",
       "</table>\n",
       "</div>"
      ],
      "text/plain": [
       "                                Resume  Similarity Score\n",
       "0         Dhruvraj_resume_USHunger.pdf             53.87\n",
       "1    Dhruvraj_Resume_intern_rocket.pdf             53.45\n",
       "2            Dhruvraj_resume_May18.pdf             44.75\n",
       "3            Dhruvraj_resume_Mar11.pdf             40.43\n",
       "4             Dhruvraj_resume_MSDS.pdf             35.98\n",
       "5  Dhruvraj_resume_image_analytics.pdf             25.18"
      ]
     },
     "execution_count": 7,
     "metadata": {},
     "output_type": "execute_result"
    }
   ],
   "source": [
    "results_df"
   ]
  },
  {
   "cell_type": "code",
   "execution_count": null,
   "metadata": {},
   "outputs": [],
   "source": []
  }
 ],
 "metadata": {
  "kernelspec": {
   "display_name": "base",
   "language": "python",
   "name": "python3"
  },
  "language_info": {
   "codemirror_mode": {
    "name": "ipython",
    "version": 3
   },
   "file_extension": ".py",
   "mimetype": "text/x-python",
   "name": "python",
   "nbconvert_exporter": "python",
   "pygments_lexer": "ipython3",
   "version": "3.12.2"
  }
 },
 "nbformat": 4,
 "nbformat_minor": 2
}
